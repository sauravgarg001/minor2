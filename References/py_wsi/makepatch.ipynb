{
 "cells": [
  {
   "cell_type": "code",
   "execution_count": 8,
   "metadata": {},
   "outputs": [],
   "source": [
    "import py_wsi\n",
    "import py_wsi.imagepy_toolkit as tk"
   ]
  },
  {
   "cell_type": "code",
   "execution_count": 14,
   "metadata": {},
   "outputs": [],
   "source": [
    "file_dir = \"D:/Study/Dropbox/SEM 6/Minor 2/patchfiles/\"\n",
    "db_location = \"D:/Study/Dropbox/SEM 6/Minor 2/patchfiles/\"\n",
    "patch_size =1080\n",
    "level =14\n",
    "db_name = \"patch_db\"\n",
    "overlap = 0\n"
   ]
  },
  {
   "cell_type": "code",
   "execution_count": 15,
   "metadata": {},
   "outputs": [
    {
     "name": "stdout",
     "output_type": "stream",
     "text": [
      "======================================================\n",
      "Storage type:               disk\n",
      "Images directory:           D:/Study/Dropbox/SEM 6/Minor 2/patchfiles/\n",
      "Data store directory:       D:/Study/Dropbox/SEM 6/Minor 2/patchfiles/\n",
      "Images found:               1\n",
      "======================================================\n"
     ]
    }
   ],
   "source": [
    "turtle = py_wsi.Turtle(file_dir, db_location, db_name, storage_type='disk')\n"
   ]
  },
  {
   "cell_type": "code",
   "execution_count": 16,
   "metadata": {},
   "outputs": [
    {
     "name": "stdout",
     "output_type": "stream",
     "text": [
      "Total WSI images:    1\n",
      "LMDB name:           patch_db\n",
      "File names:          ['JP2K-33003-1.svs']\n"
     ]
    }
   ],
   "source": [
    "print(\"Total WSI images:    \" + str(turtle.num_files))\n",
    "print(\"LMDB name:           \" + str(turtle.db_name))\n",
    "print(\"File names:          \" + str(turtle.files))\n"
   ]
  },
  {
   "cell_type": "code",
   "execution_count": 17,
   "metadata": {},
   "outputs": [
    {
     "name": "stdout",
     "output_type": "stream",
     "text": [
      "Setting patch size 480 and tile size 480\n",
      "Level count:         16\n",
      "Level tiles:         ((1, 1), (1, 1), (1, 1), (1, 1), (1, 1), (1, 1), (1, 1), (1, 1), (1, 1), (1, 1), (2, 2), (3, 3), (5, 5), (9, 10), (17, 19), (33, 37))\n",
      "Level dimensions:    ((1, 1), (1, 2), (2, 3), (4, 5), (8, 9), (16, 18), (31, 35), (61, 69), (121, 137), (241, 274), (481, 547), (961, 1094), (1922, 2188), (3844, 4375), (7687, 8749), (15374, 17497))\n"
     ]
    }
   ],
   "source": [
    "level_count, level_tiles, level_dims = turtle.retrieve_tile_dimensions('JP2K-33003-1.svs', patch_size=480)\n",
    "print(\"Level count:         \" + str(level_count))\n",
    "print(\"Level tiles:         \" + str(level_tiles))\n",
    "print(\"Level dimensions:    \" + str(level_dims))"
   ]
  },
  {
   "cell_type": "code",
   "execution_count": 18,
   "metadata": {},
   "outputs": [
    {
     "name": "stdout",
     "output_type": "stream",
     "text": [
      "JP2K-33003-1.svs \n",
      "============ Patches Dataset Stats ===========\n",
      "Total patches sampled:                     56\n",
      "Patches saved to:                          D:/Study/Dropbox/SEM 6/Minor 2/patchfiles/\n",
      "Patches saved with prefix:                 patch_db\n",
      "\n",
      "Time usage: 0:02:35\n"
     ]
    }
   ],
   "source": [
    "turtle.sample_and_store_patches(patch_size, level, overlap, load_xml=False, limit_bounds=True)"
   ]
  },
  {
   "cell_type": "code",
   "execution_count": null,
   "metadata": {},
   "outputs": [],
   "source": []
  }
 ],
 "metadata": {
  "kernelspec": {
   "display_name": "Python 3",
   "language": "python",
   "name": "python3"
  },
  "language_info": {
   "codemirror_mode": {
    "name": "ipython",
    "version": 3
   },
   "file_extension": ".py",
   "mimetype": "text/x-python",
   "name": "python",
   "nbconvert_exporter": "python",
   "pygments_lexer": "ipython3",
   "version": "3.7.3"
  }
 },
 "nbformat": 4,
 "nbformat_minor": 4
}
